{
 "cells": [
  {
   "cell_type": "markdown",
   "metadata": {},
   "source": [
    "# ADVANCED LEARNING FOR TEXT AND GRAPH DATA\n"
   ]
  },
  {
   "cell_type": "markdown",
   "metadata": {},
   "source": [
    "## First thoughts: unsupervised keyword extraction"
   ]
  },
  {
   "cell_type": "markdown",
   "metadata": {},
   "source": [
    "* This initial paper is meant to apply methods from __social network analysis__ to __word co_occurence networks__ to extract __keywords__. \n",
    "* Those same methods could be applied in many other fields such as music, chemistry and so on (_I will proceed on them if I got time_).\n",
    "* But for now, let's focus on ___Unsupervised single-document keyword extraction___.\n",
    "* The point of this paper is to see, if I really have understood the concepts be sharing it to others, if you notice any mistakes, please notify them :)"
   ]
  },
  {
   "cell_type": "markdown",
   "metadata": {},
   "source": [
    "### Import"
   ]
  },
  {
   "cell_type": "code",
   "execution_count": 2,
   "metadata": {},
   "outputs": [],
   "source": [
    "# conda install -c conda-forge python-igraph"
   ]
  },
  {
   "cell_type": "code",
   "execution_count": 3,
   "metadata": {},
   "outputs": [],
   "source": [
    "import re \n",
    "import itertools\n",
    "import operator\n",
    "import copy\n",
    "import igraph #  conda install -c conda-forge python-igraph\n",
    "import heapq\n",
    "import nltk\n",
    "# requires nltk 3.2.1\n",
    "from nltk import pos_tag # nltk.download('maxent_treebank_pos_tagger')"
   ]
  },
  {
   "cell_type": "markdown",
   "metadata": {},
   "source": [
    "### Preprocessing"
   ]
  },
  {
   "cell_type": "markdown",
   "metadata": {},
   "source": [
    "Before even starting to make graphs of word co_occurence networks, we have to clean up the input texts. Let me remind you the steps :\n",
    "* __convert to lower case__\n",
    "* __remove any punctuation__\n",
    "* __tokenize__\n",
    "* __remove stopwords__ –_Those are the words that occurs often and adds no useful meaning to a sentence, such as  \"the, is, at, which, and on\"_–\n",
    "- __pos filtering__ –_get only nouns and adjective_– :  part-of-speech tagging is also called grammatical tagging or word-category.\n",
    "- __stem__: likely, likes, liking ==> like"
   ]
  },
  {
   "cell_type": "code",
   "execution_count": 4,
   "metadata": {},
   "outputs": [],
   "source": [
    "def clean_text_simple(text, my_stopwords, punct, remove_stopwords=True, pos_filtering=True, stemming=True):\n",
    "    \n",
    "    text = text.lower()\n",
    "    text = ''.join(l for l in text if l not in punct) # remove punctuation (preserving intra-word dashes)\n",
    "    text = re.sub(' +',' ',text) # strip extra white space\n",
    "    text = text.strip() # strip leading and trailing white space\n",
    "    tokens = text.split(' ') # tokenize (split based on whitespace)\n",
    "    if pos_filtering == True:\n",
    "        # POS-tag and retain only nouns and adjectives\n",
    "        tagged_tokens = pos_tag(tokens)\n",
    "        tokens_keep = []\n",
    "        for item in tagged_tokens:\n",
    "            if (\n",
    "            item[1] == 'NN' or\n",
    "            item[1] == 'NNS' or\n",
    "            item[1] == 'NNP' or\n",
    "            item[1] == 'NNPS' or\n",
    "            item[1] == 'JJ' or\n",
    "            item[1] == 'JJS' or\n",
    "            item[1] == 'JJR'\n",
    "            ):\n",
    "                tokens_keep.append(item[0])\n",
    "        tokens = tokens_keep\n",
    "    if remove_stopwords:\n",
    "        tokens = [token for token in tokens if token not in my_stopwords]\n",
    "    if stemming:\n",
    "        stemmer = nltk.stem.PorterStemmer()\n",
    "        tokens_stemmed = list()\n",
    "        for token in tokens:\n",
    "            tokens_stemmed.append(stemmer.stem(token))\n",
    "        tokens = tokens_stemmed\n",
    "    \n",
    "    return(tokens)"
   ]
  },
  {
   "cell_type": "markdown",
   "metadata": {},
   "source": [
    "### Word co-occurrence networks"
   ]
  },
  {
   "cell_type": "markdown",
   "metadata": {},
   "source": [
    "Let's modelize the graph of words by __the distributional hypothesis__. This means that we know a word according to its neighbours. In order not to make the graph to dense, we will cut the sentence into chunks. This chunks will be browsed one by one by a window. \n",
    "<br><br>\n",
    "Each term will be symbolized as a node, and the if they co-occur within a windows they will be linked with an edge. The edges can be weighted, it's the count of the co-occurence. Therefore, in this model, we have word dependency and even terms order if the graph has directed edges.\n",
    "<br><br> Let's transform text into a graph:"
   ]
  },
  {
   "cell_type": "code",
   "execution_count": 5,
   "metadata": {},
   "outputs": [],
   "source": [
    "def terms_to_graph(terms, window_size):\n",
    "\n",
    "    from_to = {}\n",
    "\n",
    "    w = min(window_size, len(terms))\n",
    "    # create initial complete graph (first w terms)\n",
    "    terms_temp = terms[0:w]\n",
    "    indexes = list(itertools.combinations(range(w), r=2))\n",
    "\n",
    "    new_edges = []\n",
    "\n",
    "    for my_tuple in indexes:\n",
    "        new_edges.append(tuple([terms_temp[i] for i in my_tuple]))\n",
    "    for new_edge in new_edges:\n",
    "        if new_edge in from_to:\n",
    "            from_to[new_edge] += 1\n",
    "        else:\n",
    "            from_to[new_edge] = 1\n",
    "\n",
    "    # then iterate over the remaining terms\n",
    "    for i in range(w, len(terms)):\n",
    "        # term to consider\n",
    "        considered_term = terms[i]\n",
    "        # all terms within sliding window\n",
    "        terms_temp = terms[(i - w + 1):(i + 1)]\n",
    "\n",
    "        # edges to try\n",
    "        candidate_edges = []\n",
    "        for p in range(w - 1):\n",
    "            candidate_edges.append((terms_temp[p], considered_term))\n",
    "\n",
    "        for try_edge in candidate_edges:\n",
    "\n",
    "            # if not self-edge\n",
    "            if try_edge[1] != try_edge[0]:\n",
    "\n",
    "                # if edge has already been seen, update its weight\n",
    "                if try_edge in from_to:\n",
    "                    from_to[try_edge] += 1\n",
    "\n",
    "                # if edge has never been seen, create it and assign it a unit weight\n",
    "                else:\n",
    "                    from_to[try_edge] = 1\n",
    "\n",
    "    # create empty graph\n",
    "    g = igraph.Graph(directed=True)\n",
    "\n",
    "    # add vertices\n",
    "    g.add_vertices(sorted(set(terms)))\n",
    "\n",
    "    # add edges, direction is preserved since the graph is directed\n",
    "    g.add_edges(list(from_to.keys()))\n",
    "\n",
    "    # set edge and vertice weights\n",
    "    g.es['weight'] = list(from_to.values()) # based on co-occurence within sliding window\n",
    "    g.vs['weight'] = g.strength(weights=list(from_to.values())) # weighted degree\n",
    "\n",
    "    return (g)"
   ]
  },
  {
   "cell_type": "code",
   "execution_count": 27,
   "metadata": {},
   "outputs": [],
   "source": [
    "import string\n",
    "import matplotlib.pyplot as plt  \n",
    "from nltk.corpus import stopwords\n",
    "\n",
    "\n",
    "stpwds = stopwords.words('english')\n",
    "#stpwds = stopwords.words('french')\n",
    "punct = string.punctuation.replace('-', '')\n",
    "my_doc = \"Mithuran loves Chloe and she loves Quentin. However, Quentin loves Mithuran. Mithuran is sad\"\n",
    "my_doc = \"TOTO is a trader man. TOTO is a boss of Google. He plays Tennis\"\n",
    "\n",
    "#my_doc = \"Mithuran is married to Marion but he loves Chloé. Unfortunately, Chloé loves Quentin. The tricky part is that Quentin loves Marion. What a mess\"\n",
    "#my_doc = \"Mithuran aime Chloé et elle aime Quentin. Quentin aime Mithuran.\"\n",
    "my_doc = my_doc.replace('\\n', '')\n",
    "\n"
   ]
  },
  {
   "cell_type": "code",
   "execution_count": 7,
   "metadata": {},
   "outputs": [
    {
     "name": "stderr",
     "output_type": "stream",
     "text": [
      "[nltk_data] Downloading package averaged_perceptron_tagger to\n",
      "[nltk_data]     /Users/raphael/nltk_data...\n",
      "[nltk_data]   Package averaged_perceptron_tagger is already up-to-\n",
      "[nltk_data]       date!\n"
     ]
    },
    {
     "data": {
      "text/plain": [
       "True"
      ]
     },
     "execution_count": 7,
     "metadata": {},
     "output_type": "execute_result"
    }
   ],
   "source": [
    "# nltk.download('averaged_perceptron_tagger')"
   ]
  },
  {
   "cell_type": "code",
   "execution_count": 28,
   "metadata": {},
   "outputs": [],
   "source": [
    "# pre-process document\n",
    "my_tokens = clean_text_simple(my_doc,my_stopwords=stpwds,punct=punct)\n",
    "\n",
    "g = terms_to_graph(my_tokens, 2)"
   ]
  },
  {
   "cell_type": "code",
   "execution_count": 29,
   "metadata": {},
   "outputs": [
    {
     "data": {
      "image/svg+xml": [
       "<?xml version=\"1.0\" encoding=\"UTF-8\"?>\n",
       "<svg xmlns=\"http://www.w3.org/2000/svg\" xmlns:xlink=\"http://www.w3.org/1999/xlink\" width=\"600pt\" height=\"600pt\" viewBox=\"0 0 600 600\" version=\"1.1\">\n",
       "<defs>\n",
       "<g>\n",
       "<symbol overflow=\"visible\" id=\"glyph0-0\">\n",
       "<path style=\"stroke:none;\" d=\"M 0.453125 0 L 0.453125 -10.042969 L 8.421875 -10.042969 L 8.421875 0 Z M 7.164062 -1.257812 L 7.164062 -8.785156 L 1.710938 -8.785156 L 1.710938 -1.257812 Z M 7.164062 -1.257812 \"/>\n",
       "</symbol>\n",
       "<symbol overflow=\"visible\" id=\"glyph0-1\">\n",
       "<path style=\"stroke:none;\" d=\"M 0.804688 -10.078125 L 2.003906 -10.078125 L 2.003906 -6.433594 C 2.273438 -6.785156 2.59375 -7.050781 2.96875 -7.234375 C 3.339844 -7.421875 3.746094 -7.511719 4.183594 -7.511719 C 5.09375 -7.511719 5.835938 -7.199219 6.402344 -6.574219 C 6.96875 -5.945312 7.253906 -5.023438 7.253906 -3.800781 C 7.253906 -2.644531 6.972656 -1.679688 6.414062 -0.914062 C 5.851562 -0.148438 5.074219 0.234375 4.082031 0.234375 C 3.523438 0.234375 3.054688 0.0976562 2.671875 -0.171875 C 2.445312 -0.332031 2.203125 -0.585938 1.941406 -0.9375 L 1.941406 0 L 0.804688 0 Z M 4.007812 -0.855469 C 4.671875 -0.855469 5.167969 -1.117188 5.5 -1.648438 C 5.828125 -2.175781 5.996094 -2.875 5.996094 -3.738281 C 5.996094 -4.507812 5.828125 -5.148438 5.5 -5.652344 C 5.167969 -6.160156 4.683594 -6.414062 4.039062 -6.414062 C 3.480469 -6.414062 2.988281 -6.203125 2.566406 -5.789062 C 2.144531 -5.375 1.933594 -4.691406 1.933594 -3.738281 C 1.933594 -3.050781 2.019531 -2.492188 2.195312 -2.0625 C 2.519531 -1.257812 3.121094 -0.855469 4.007812 -0.855469 Z M 4.007812 -0.855469 \"/>\n",
       "</symbol>\n",
       "<symbol overflow=\"visible\" id=\"glyph0-2\">\n",
       "<path style=\"stroke:none;\" d=\"M 3.808594 -0.792969 C 4.625 -0.792969 5.183594 -1.101562 5.484375 -1.71875 C 5.789062 -2.335938 5.941406 -3.023438 5.941406 -3.78125 C 5.941406 -4.464844 5.832031 -5.019531 5.613281 -5.449219 C 5.265625 -6.125 4.667969 -6.460938 3.820312 -6.460938 C 3.070312 -6.460938 2.523438 -6.171875 2.179688 -5.597656 C 1.839844 -5.023438 1.667969 -4.332031 1.667969 -3.519531 C 1.667969 -2.742188 1.839844 -2.09375 2.179688 -1.570312 C 2.523438 -1.050781 3.066406 -0.792969 3.808594 -0.792969 Z M 3.855469 -7.53125 C 4.796875 -7.53125 5.597656 -7.21875 6.25 -6.589844 C 6.898438 -5.960938 7.226562 -5.035156 7.226562 -3.8125 C 7.226562 -2.632812 6.9375 -1.660156 6.363281 -0.890625 C 5.789062 -0.117188 4.898438 0.265625 3.691406 0.265625 C 2.683594 0.265625 1.882812 -0.0742188 1.292969 -0.753906 C 0.699219 -1.4375 0.402344 -2.351562 0.402344 -3.5 C 0.402344 -4.730469 0.714844 -5.710938 1.339844 -6.4375 C 1.964844 -7.167969 2.804688 -7.53125 3.855469 -7.53125 Z M 3.855469 -7.53125 \"/>\n",
       "</symbol>\n",
       "<symbol overflow=\"visible\" id=\"glyph0-3\">\n",
       "<path style=\"stroke:none;\" d=\"M 1.632812 -2.296875 C 1.671875 -1.886719 1.773438 -1.570312 1.941406 -1.351562 C 2.25 -0.957031 2.789062 -0.757812 3.554688 -0.757812 C 4.011719 -0.757812 4.410156 -0.859375 4.757812 -1.054688 C 5.105469 -1.253906 5.277344 -1.5625 5.277344 -1.976562 C 5.277344 -2.289062 5.136719 -2.53125 4.859375 -2.695312 C 4.683594 -2.792969 4.332031 -2.910156 3.808594 -3.042969 L 2.828125 -3.289062 C 2.203125 -3.445312 1.746094 -3.617188 1.449219 -3.808594 C 0.921875 -4.140625 0.65625 -4.601562 0.65625 -5.1875 C 0.65625 -5.882812 0.90625 -6.441406 1.40625 -6.871094 C 1.90625 -7.296875 2.574219 -7.511719 3.417969 -7.511719 C 4.519531 -7.511719 5.316406 -7.1875 5.804688 -6.542969 C 6.109375 -6.132812 6.257812 -5.691406 6.25 -5.214844 L 5.085938 -5.214844 C 5.0625 -5.492188 4.964844 -5.746094 4.792969 -5.976562 C 4.507812 -6.296875 4.019531 -6.460938 3.320312 -6.460938 C 2.855469 -6.460938 2.503906 -6.371094 2.265625 -6.195312 C 2.027344 -6.015625 1.90625 -5.78125 1.90625 -5.488281 C 1.90625 -5.171875 2.0625 -4.914062 2.378906 -4.722656 C 2.5625 -4.609375 2.828125 -4.507812 3.1875 -4.421875 L 4 -4.226562 C 4.882812 -4.011719 5.476562 -3.804688 5.777344 -3.601562 C 6.253906 -3.289062 6.492188 -2.792969 6.492188 -2.117188 C 6.492188 -1.46875 6.246094 -0.90625 5.753906 -0.429688 C 5.257812 0.0429688 4.503906 0.28125 3.492188 0.28125 C 2.402344 0.28125 1.632812 0.03125 1.179688 -0.460938 C 0.726562 -0.957031 0.484375 -1.566406 0.453125 -2.296875 Z M 1.632812 -2.296875 \"/>\n",
       "</symbol>\n",
       "<symbol overflow=\"visible\" id=\"glyph0-4\">\n",
       "<path style=\"stroke:none;\" d=\"M 3.484375 -7.453125 C 4.058594 -7.453125 4.5625 -7.308594 4.992188 -7.027344 C 5.222656 -6.867188 5.460938 -6.636719 5.703125 -6.328125 L 5.703125 -7.253906 L 6.835938 -7.253906 L 6.835938 -0.59375 C 6.835938 0.335938 6.699219 1.070312 6.425781 1.605469 C 5.914062 2.601562 4.953125 3.097656 3.535156 3.097656 C 2.746094 3.097656 2.082031 2.921875 1.546875 2.566406 C 1.007812 2.214844 0.707031 1.660156 0.640625 0.910156 L 1.894531 0.910156 C 1.953125 1.238281 2.070312 1.492188 2.25 1.667969 C 2.527344 1.941406 2.964844 2.078125 3.5625 2.078125 C 4.503906 2.078125 5.121094 1.746094 5.414062 1.078125 C 5.585938 0.6875 5.667969 -0.0117188 5.652344 -1.019531 C 5.40625 -0.644531 5.109375 -0.367188 4.765625 -0.183594 C 4.417969 0 3.960938 0.0898438 3.390625 0.0898438 C 2.597656 0.0898438 1.902344 -0.191406 1.308594 -0.753906 C 0.714844 -1.316406 0.417969 -2.25 0.417969 -3.546875 C 0.417969 -4.773438 0.714844 -5.730469 1.316406 -6.417969 C 1.914062 -7.105469 2.640625 -7.453125 3.484375 -7.453125 Z M 5.703125 -3.691406 C 5.703125 -4.597656 5.515625 -5.269531 5.140625 -5.707031 C 4.765625 -6.144531 4.289062 -6.363281 3.710938 -6.363281 C 2.84375 -6.363281 2.253906 -5.957031 1.933594 -5.148438 C 1.765625 -4.714844 1.679688 -4.148438 1.679688 -3.445312 C 1.679688 -2.621094 1.847656 -1.992188 2.183594 -1.5625 C 2.519531 -1.132812 2.96875 -0.914062 3.535156 -0.914062 C 4.417969 -0.914062 5.039062 -1.316406 5.398438 -2.113281 C 5.601562 -2.5625 5.703125 -3.089844 5.703125 -3.691406 Z M 5.703125 -3.691406 \"/>\n",
       "</symbol>\n",
       "<symbol overflow=\"visible\" id=\"glyph0-5\">\n",
       "<path style=\"stroke:none;\" d=\"M 0.9375 -10.042969 L 2.167969 -10.042969 L 2.167969 0 L 0.9375 0 Z M 0.9375 -10.042969 \"/>\n",
       "</symbol>\n",
       "<symbol overflow=\"visible\" id=\"glyph0-6\">\n",
       "<path style=\"stroke:none;\" d=\"M 0.902344 -7.320312 L 2.117188 -7.320312 L 2.117188 -6.28125 C 2.410156 -6.640625 2.675781 -6.90625 2.914062 -7.070312 C 3.320312 -7.347656 3.777344 -7.484375 4.292969 -7.484375 C 4.875 -7.484375 5.34375 -7.34375 5.703125 -7.054688 C 5.902344 -6.890625 6.085938 -6.648438 6.25 -6.328125 C 6.523438 -6.722656 6.84375 -7.011719 7.210938 -7.203125 C 7.582031 -7.390625 7.996094 -7.484375 8.457031 -7.484375 C 9.441406 -7.484375 10.109375 -7.128906 10.464844 -6.417969 C 10.65625 -6.035156 10.753906 -5.519531 10.753906 -4.875 L 10.753906 0 L 9.476562 0 L 9.476562 -5.085938 C 9.476562 -5.574219 9.351562 -5.910156 9.109375 -6.089844 C 8.867188 -6.273438 8.566406 -6.363281 8.21875 -6.363281 C 7.734375 -6.363281 7.316406 -6.203125 6.96875 -5.878906 C 6.621094 -5.554688 6.445312 -5.015625 6.445312 -4.257812 L 6.445312 0 L 5.195312 0 L 5.195312 -4.777344 C 5.195312 -5.273438 5.136719 -5.636719 5.015625 -5.867188 C 4.828125 -6.207031 4.480469 -6.378906 3.972656 -6.378906 C 3.507812 -6.378906 3.085938 -6.199219 2.703125 -5.835938 C 2.324219 -5.476562 2.132812 -4.828125 2.132812 -3.882812 L 2.132812 0 L 0.902344 0 Z M 0.902344 -7.320312 \"/>\n",
       "</symbol>\n",
       "<symbol overflow=\"visible\" id=\"glyph0-7\">\n",
       "<path style=\"stroke:none;\" d=\"M 1.84375 -1.949219 C 1.84375 -1.59375 1.976562 -1.3125 2.234375 -1.109375 C 2.496094 -0.902344 2.804688 -0.800781 3.15625 -0.800781 C 3.589844 -0.800781 4.011719 -0.898438 4.414062 -1.101562 C 5.097656 -1.433594 5.441406 -1.976562 5.441406 -2.734375 L 5.441406 -3.726562 C 5.289062 -3.628906 5.097656 -3.550781 4.859375 -3.484375 C 4.625 -3.421875 4.390625 -3.375 4.164062 -3.351562 L 3.417969 -3.253906 C 2.972656 -3.195312 2.636719 -3.101562 2.414062 -2.972656 C 2.035156 -2.757812 1.84375 -2.417969 1.84375 -1.949219 Z M 4.828125 -4.4375 C 5.109375 -4.472656 5.296875 -4.589844 5.394531 -4.792969 C 5.449219 -4.902344 5.476562 -5.058594 5.476562 -5.265625 C 5.476562 -5.683594 5.328125 -5.988281 5.027344 -6.175781 C 4.730469 -6.367188 4.300781 -6.460938 3.746094 -6.460938 C 3.101562 -6.460938 2.648438 -6.285156 2.378906 -5.941406 C 2.226562 -5.75 2.128906 -5.464844 2.085938 -5.085938 L 0.9375 -5.085938 C 0.960938 -5.988281 1.253906 -6.617188 1.816406 -6.96875 C 2.378906 -7.320312 3.03125 -7.5 3.773438 -7.5 C 4.632812 -7.5 5.335938 -7.335938 5.871094 -7.007812 C 6.40625 -6.679688 6.671875 -6.167969 6.671875 -5.476562 L 6.671875 -1.257812 C 6.671875 -1.128906 6.699219 -1.027344 6.75 -0.949219 C 6.804688 -0.871094 6.914062 -0.835938 7.082031 -0.835938 C 7.136719 -0.835938 7.199219 -0.835938 7.265625 -0.84375 C 7.335938 -0.851562 7.40625 -0.859375 7.484375 -0.875 L 7.484375 0.0351562 C 7.292969 0.0898438 7.148438 0.125 7.046875 0.136719 C 6.945312 0.148438 6.8125 0.15625 6.636719 0.15625 C 6.214844 0.15625 5.90625 0.0078125 5.714844 -0.292969 C 5.613281 -0.453125 5.542969 -0.679688 5.503906 -0.96875 C 5.253906 -0.640625 4.890625 -0.359375 4.421875 -0.117188 C 3.953125 0.125 3.4375 0.246094 2.871094 0.246094 C 2.191406 0.246094 1.636719 0.0390625 1.207031 -0.371094 C 0.777344 -0.785156 0.5625 -1.300781 0.5625 -1.921875 C 0.5625 -2.601562 0.773438 -3.125 1.195312 -3.5 C 1.621094 -3.875 2.175781 -4.105469 2.863281 -4.191406 Z M 4.828125 -4.4375 \"/>\n",
       "</symbol>\n",
       "<symbol overflow=\"visible\" id=\"glyph0-8\">\n",
       "<path style=\"stroke:none;\" d=\"M 0.902344 -7.320312 L 2.070312 -7.320312 L 2.070312 -6.28125 C 2.417969 -6.710938 2.785156 -7.019531 3.171875 -7.203125 C 3.558594 -7.390625 3.988281 -7.484375 4.464844 -7.484375 C 5.503906 -7.484375 6.203125 -7.125 6.570312 -6.398438 C 6.769531 -6 6.871094 -5.433594 6.871094 -4.695312 L 6.871094 0 L 5.617188 0 L 5.617188 -4.613281 C 5.617188 -5.0625 5.554688 -5.421875 5.421875 -5.695312 C 5.203125 -6.148438 4.804688 -6.378906 4.230469 -6.378906 C 3.9375 -6.378906 3.699219 -6.347656 3.515625 -6.289062 C 3.175781 -6.1875 2.878906 -5.988281 2.625 -5.6875 C 2.421875 -5.445312 2.285156 -5.195312 2.226562 -4.9375 C 2.164062 -4.679688 2.132812 -4.3125 2.132812 -3.835938 L 2.132812 0 L 0.902344 0 Z M 0.902344 -7.320312 \"/>\n",
       "</symbol>\n",
       "<symbol overflow=\"visible\" id=\"glyph0-9\">\n",
       "<path style=\"stroke:none;\" d=\"M 1.148438 -9.367188 L 2.390625 -9.367188 L 2.390625 -7.320312 L 3.5625 -7.320312 L 3.5625 -6.316406 L 2.390625 -6.316406 L 2.390625 -1.539062 C 2.390625 -1.28125 2.480469 -1.113281 2.652344 -1.023438 C 2.75 -0.976562 2.90625 -0.949219 3.132812 -0.949219 C 3.191406 -0.949219 3.253906 -0.953125 3.320312 -0.953125 C 3.390625 -0.957031 3.46875 -0.960938 3.5625 -0.96875 L 3.5625 0 C 3.421875 0.0390625 3.273438 0.0703125 3.121094 0.0898438 C 2.96875 0.109375 2.804688 0.117188 2.625 0.117188 C 2.050781 0.117188 1.660156 -0.03125 1.457031 -0.324219 C 1.25 -0.617188 1.148438 -1 1.148438 -1.46875 L 1.148438 -6.316406 L 0.15625 -6.316406 L 0.15625 -7.320312 L 1.148438 -7.320312 Z M 1.148438 -9.367188 \"/>\n",
       "</symbol>\n",
       "<symbol overflow=\"visible\" id=\"glyph0-10\">\n",
       "<path style=\"stroke:none;\" d=\"M 3.953125 -7.484375 C 4.472656 -7.484375 4.972656 -7.363281 5.460938 -7.121094 C 5.949219 -6.875 6.320312 -6.558594 6.578125 -6.171875 C 6.824219 -5.804688 6.984375 -5.375 7.070312 -4.882812 C 7.140625 -4.542969 7.179688 -4.007812 7.179688 -3.265625 L 1.8125 -3.265625 C 1.835938 -2.523438 2.007812 -1.929688 2.335938 -1.480469 C 2.664062 -1.03125 3.175781 -0.804688 3.863281 -0.804688 C 4.503906 -0.804688 5.015625 -1.019531 5.398438 -1.441406 C 5.617188 -1.6875 5.773438 -1.972656 5.867188 -2.296875 L 7.074219 -2.296875 C 7.042969 -2.027344 6.9375 -1.726562 6.757812 -1.398438 C 6.578125 -1.066406 6.375 -0.796875 6.152344 -0.585938 C 5.777344 -0.222656 5.316406 0.0234375 4.765625 0.148438 C 4.46875 0.222656 4.132812 0.257812 3.757812 0.257812 C 2.847656 0.257812 2.074219 -0.0703125 1.441406 -0.734375 C 0.808594 -1.398438 0.492188 -2.328125 0.492188 -3.519531 C 0.492188 -4.695312 0.8125 -5.652344 1.449219 -6.382812 C 2.085938 -7.117188 2.921875 -7.484375 3.953125 -7.484375 Z M 5.914062 -4.246094 C 5.863281 -4.777344 5.746094 -5.203125 5.5625 -5.523438 C 5.226562 -6.117188 4.664062 -6.414062 3.875 -6.414062 C 3.3125 -6.414062 2.835938 -6.207031 2.453125 -5.800781 C 2.070312 -5.390625 1.867188 -4.875 1.84375 -4.246094 Z M 5.914062 -4.246094 \"/>\n",
       "</symbol>\n",
       "<symbol overflow=\"visible\" id=\"glyph0-11\">\n",
       "<path style=\"stroke:none;\" d=\"M 0.902344 -7.289062 L 2.152344 -7.289062 L 2.152344 0 L 0.902344 0 Z M 0.902344 -10.042969 L 2.152344 -10.042969 L 2.152344 -8.648438 L 0.902344 -8.648438 Z M 0.902344 -10.042969 \"/>\n",
       "</symbol>\n",
       "<symbol overflow=\"visible\" id=\"glyph0-12\">\n",
       "<path style=\"stroke:none;\" d=\"M 0.9375 -7.320312 L 2.105469 -7.320312 L 2.105469 -6.054688 C 2.203125 -6.300781 2.4375 -6.601562 2.808594 -6.957031 C 3.183594 -7.308594 3.613281 -7.484375 4.101562 -7.484375 C 4.125 -7.484375 4.164062 -7.484375 4.21875 -7.476562 C 4.273438 -7.472656 4.367188 -7.464844 4.5 -7.453125 L 4.5 -6.152344 C 4.425781 -6.164062 4.359375 -6.175781 4.296875 -6.179688 C 4.234375 -6.183594 4.167969 -6.1875 4.09375 -6.1875 C 3.476562 -6.1875 3 -5.988281 2.664062 -5.589844 C 2.332031 -5.191406 2.167969 -4.730469 2.167969 -4.210938 L 2.167969 0 L 0.9375 0 Z M 0.9375 -7.320312 \"/>\n",
       "</symbol>\n",
       "<symbol overflow=\"visible\" id=\"glyph0-13\">\n",
       "<path style=\"stroke:none;\" d=\"M 1.679688 -3.574219 C 1.679688 -2.789062 1.847656 -2.136719 2.179688 -1.605469 C 2.511719 -1.078125 3.046875 -0.8125 3.78125 -0.8125 C 4.351562 -0.8125 4.816406 -1.058594 5.183594 -1.546875 C 5.550781 -2.039062 5.734375 -2.742188 5.734375 -3.65625 C 5.734375 -4.582031 5.546875 -5.265625 5.167969 -5.710938 C 4.789062 -6.15625 4.324219 -6.378906 3.765625 -6.378906 C 3.148438 -6.378906 2.644531 -6.140625 2.257812 -5.667969 C 1.875 -5.195312 1.679688 -4.496094 1.679688 -3.574219 Z M 3.535156 -7.453125 C 4.09375 -7.453125 4.5625 -7.332031 4.941406 -7.09375 C 5.160156 -6.957031 5.410156 -6.71875 5.6875 -6.378906 L 5.6875 -10.078125 L 6.871094 -10.078125 L 6.871094 0 L 5.761719 0 L 5.761719 -1.019531 C 5.476562 -0.566406 5.136719 -0.242188 4.742188 -0.0390625 C 4.351562 0.160156 3.902344 0.257812 3.398438 0.257812 C 2.582031 0.257812 1.875 -0.0820312 1.277344 -0.769531 C 0.679688 -1.453125 0.382812 -2.367188 0.382812 -3.507812 C 0.382812 -4.574219 0.65625 -5.496094 1.199219 -6.277344 C 1.742188 -7.058594 2.523438 -7.453125 3.535156 -7.453125 Z M 3.535156 -7.453125 \"/>\n",
       "</symbol>\n",
       "</g>\n",
       "</defs>\n",
       "<g id=\"surface32\">\n",
       "<rect x=\"0\" y=\"0\" width=\"600\" height=\"600\" style=\"fill:rgb(100%,100%,100%);fill-opacity:1;stroke:none;\"/>\n",
       "<path style=\"fill:none;stroke-width:1;stroke-linecap:butt;stroke-linejoin:miter;stroke:rgb(26.666667%,26.666667%,26.666667%);stroke-opacity:1;stroke-miterlimit:10;\" d=\"M 441.726562 188.828125 L 556.558594 158.109375 \"/>\n",
       "<path style=\" stroke:none;fill-rule:nonzero;fill:rgb(26.666667%,26.666667%,26.666667%);fill-opacity:1;\" d=\"M 570.339844 154.421875 L 557.757812 162.585938 L 555.359375 153.632812 L 570.339844 154.421875 \"/>\n",
       "<path style=\"fill:none;stroke-width:1;stroke-linecap:butt;stroke-linejoin:miter;stroke:rgb(26.666667%,26.666667%,26.666667%);stroke-opacity:1;stroke-miterlimit:10;\" d=\"M 580 151.839844 L 534.636719 42.414062 \"/>\n",
       "<path style=\" stroke:none;fill-rule:nonzero;fill:rgb(26.666667%,26.666667%,26.666667%);fill-opacity:1;\" d=\"M 529.175781 29.238281 L 538.921875 40.640625 L 530.355469 44.191406 L 529.175781 29.238281 \"/>\n",
       "<path style=\"fill:none;stroke-width:1;stroke-linecap:butt;stroke-linejoin:miter;stroke:rgb(26.666667%,26.666667%,26.666667%);stroke-opacity:1;stroke-miterlimit:10;\" d=\"M 525.34375 20 L 452.496094 167.082031 \"/>\n",
       "<path style=\" stroke:none;fill-rule:nonzero;fill:rgb(26.666667%,26.666667%,26.666667%);fill-opacity:1;\" d=\"M 446.164062 179.867188 L 448.339844 165.027344 L 456.648438 169.140625 L 446.164062 179.867188 \"/>\n",
       "<path style=\"fill:none;stroke-width:1;stroke-linecap:butt;stroke-linejoin:miter;stroke:rgb(26.666667%,26.666667%,26.666667%);stroke-opacity:1;stroke-miterlimit:10;\" d=\"M 441.726562 188.828125 L 305.652344 315.042969 \"/>\n",
       "<path style=\" stroke:none;fill-rule:nonzero;fill:rgb(26.666667%,26.666667%,26.666667%);fill-opacity:1;\" d=\"M 295.191406 324.746094 L 302.5 311.644531 L 308.804688 318.441406 L 295.191406 324.746094 \"/>\n",
       "<path style=\"fill:none;stroke-width:1;stroke-linecap:butt;stroke-linejoin:miter;stroke:rgb(26.666667%,26.666667%,26.666667%);stroke-opacity:1;stroke-miterlimit:10;\" d=\"M 287.859375 331.546875 L 160.804688 449.394531 \"/>\n",
       "<path style=\" stroke:none;fill-rule:nonzero;fill:rgb(26.666667%,26.666667%,26.666667%);fill-opacity:1;\" d=\"M 150.347656 459.097656 L 157.652344 445.996094 L 163.957031 452.792969 L 150.347656 459.097656 \"/>\n",
       "<path style=\"fill:none;stroke-width:1;stroke-linecap:butt;stroke-linejoin:miter;stroke:rgb(26.666667%,26.666667%,26.666667%);stroke-opacity:1;stroke-miterlimit:10;\" d=\"M 143.015625 465.898438 L 37.789062 563.496094 \"/>\n",
       "<path style=\" stroke:none;fill-rule:nonzero;fill:rgb(26.666667%,26.666667%,26.666667%);fill-opacity:1;\" d=\"M 27.332031 573.199219 L 34.640625 560.101562 L 40.941406 566.894531 L 27.332031 573.199219 \"/>\n",
       "<path style=\"fill-rule:nonzero;fill:rgb(100%,0%,0%);fill-opacity:1;stroke-width:1;stroke-linecap:butt;stroke-linejoin:miter;stroke:rgb(0%,0%,0%);stroke-opacity:1;stroke-miterlimit:10;\" d=\"M 297.859375 331.546875 C 297.859375 337.070312 293.382812 341.546875 287.859375 341.546875 C 282.335938 341.546875 277.859375 337.070312 277.859375 331.546875 C 277.859375 326.023438 282.335938 321.546875 287.859375 321.546875 C 293.382812 321.546875 297.859375 326.023438 297.859375 331.546875 \"/>\n",
       "<path style=\"fill-rule:nonzero;fill:rgb(100%,0%,0%);fill-opacity:1;stroke-width:1;stroke-linecap:butt;stroke-linejoin:miter;stroke:rgb(0%,0%,0%);stroke-opacity:1;stroke-miterlimit:10;\" d=\"M 153.015625 465.898438 C 153.015625 471.421875 148.539062 475.898438 143.015625 475.898438 C 137.492188 475.898438 133.015625 471.421875 133.015625 465.898438 C 133.015625 460.375 137.492188 455.898438 143.015625 455.898438 C 148.539062 455.898438 153.015625 460.375 153.015625 465.898438 \"/>\n",
       "<path style=\"fill-rule:nonzero;fill:rgb(100%,0%,0%);fill-opacity:1;stroke-width:1;stroke-linecap:butt;stroke-linejoin:miter;stroke:rgb(0%,0%,0%);stroke-opacity:1;stroke-miterlimit:10;\" d=\"M 535.34375 20 C 535.34375 25.523438 530.867188 30 525.34375 30 C 519.824219 30 515.34375 25.523438 515.34375 20 C 515.34375 14.476562 519.824219 10 525.34375 10 C 530.867188 10 535.34375 14.476562 535.34375 20 \"/>\n",
       "<path style=\"fill-rule:nonzero;fill:rgb(100%,0%,0%);fill-opacity:1;stroke-width:1;stroke-linecap:butt;stroke-linejoin:miter;stroke:rgb(0%,0%,0%);stroke-opacity:1;stroke-miterlimit:10;\" d=\"M 30 580 C 30 585.523438 25.523438 590 20 590 C 14.476562 590 10 585.523438 10 580 C 10 574.476562 14.476562 570 20 570 C 25.523438 570 30 574.476562 30 580 \"/>\n",
       "<path style=\"fill-rule:nonzero;fill:rgb(100%,0%,0%);fill-opacity:1;stroke-width:1;stroke-linecap:butt;stroke-linejoin:miter;stroke:rgb(0%,0%,0%);stroke-opacity:1;stroke-miterlimit:10;\" d=\"M 451.726562 188.828125 C 451.726562 194.351562 447.25 198.828125 441.726562 198.828125 C 436.203125 198.828125 431.726562 194.351562 431.726562 188.828125 C 431.726562 183.304688 436.203125 178.828125 441.726562 178.828125 C 447.25 178.828125 451.726562 183.304688 451.726562 188.828125 \"/>\n",
       "<path style=\"fill-rule:nonzero;fill:rgb(100%,0%,0%);fill-opacity:1;stroke-width:1;stroke-linecap:butt;stroke-linejoin:miter;stroke:rgb(0%,0%,0%);stroke-opacity:1;stroke-miterlimit:10;\" d=\"M 590 151.839844 C 590 157.359375 585.523438 161.839844 580 161.839844 C 574.476562 161.839844 570 157.359375 570 151.839844 C 570 146.316406 574.476562 141.839844 580 141.839844 C 585.523438 141.839844 590 146.316406 590 151.839844 \"/>\n",
       "<g style=\"fill:rgb(0%,0%,0%);fill-opacity:1;\">\n",
       "  <use xlink:href=\"#glyph0-1\" x=\"272.921875\" y=\"338.195312\"/>\n",
       "  <use xlink:href=\"#glyph0-2\" x=\"280.708008\" y=\"338.195312\"/>\n",
       "  <use xlink:href=\"#glyph0-3\" x=\"288.494141\" y=\"338.195312\"/>\n",
       "  <use xlink:href=\"#glyph0-3\" x=\"295.494141\" y=\"338.195312\"/>\n",
       "</g>\n",
       "<g style=\"fill:rgb(0%,0%,0%);fill-opacity:1;\">\n",
       "  <use xlink:href=\"#glyph0-4\" x=\"126.148438\" y=\"472.527344\"/>\n",
       "  <use xlink:href=\"#glyph0-2\" x=\"133.93457\" y=\"472.527344\"/>\n",
       "  <use xlink:href=\"#glyph0-2\" x=\"141.720703\" y=\"472.527344\"/>\n",
       "  <use xlink:href=\"#glyph0-4\" x=\"149.506836\" y=\"472.527344\"/>\n",
       "  <use xlink:href=\"#glyph0-5\" x=\"157.292969\" y=\"472.527344\"/>\n",
       "</g>\n",
       "<g style=\"fill:rgb(0%,0%,0%);fill-opacity:1;\">\n",
       "  <use xlink:href=\"#glyph0-6\" x=\"511.734375\" y=\"25.359375\"/>\n",
       "  <use xlink:href=\"#glyph0-7\" x=\"523.396484\" y=\"25.359375\"/>\n",
       "  <use xlink:href=\"#glyph0-8\" x=\"531.182617\" y=\"25.359375\"/>\n",
       "</g>\n",
       "<g style=\"fill:rgb(0%,0%,0%);fill-opacity:1;\">\n",
       "  <use xlink:href=\"#glyph0-9\" x=\"5.21875\" y=\"586.632812\"/>\n",
       "  <use xlink:href=\"#glyph0-10\" x=\"9.108398\" y=\"586.632812\"/>\n",
       "  <use xlink:href=\"#glyph0-8\" x=\"16.894531\" y=\"586.632812\"/>\n",
       "  <use xlink:href=\"#glyph0-8\" x=\"24.680664\" y=\"586.632812\"/>\n",
       "  <use xlink:href=\"#glyph0-11\" x=\"32.466797\" y=\"586.632812\"/>\n",
       "</g>\n",
       "<g style=\"fill:rgb(0%,0%,0%);fill-opacity:1;\">\n",
       "  <use xlink:href=\"#glyph0-9\" x=\"430.25\" y=\"195.121094\"/>\n",
       "  <use xlink:href=\"#glyph0-2\" x=\"434.139648\" y=\"195.121094\"/>\n",
       "  <use xlink:href=\"#glyph0-9\" x=\"441.925781\" y=\"195.121094\"/>\n",
       "  <use xlink:href=\"#glyph0-2\" x=\"445.81543\" y=\"195.121094\"/>\n",
       "</g>\n",
       "<g style=\"fill:rgb(0%,0%,0%);fill-opacity:1;\">\n",
       "  <use xlink:href=\"#glyph0-9\" x=\"561.71875\" y=\"158.484375\"/>\n",
       "  <use xlink:href=\"#glyph0-12\" x=\"565.608398\" y=\"158.484375\"/>\n",
       "  <use xlink:href=\"#glyph0-7\" x=\"570.270508\" y=\"158.484375\"/>\n",
       "  <use xlink:href=\"#glyph0-13\" x=\"578.056641\" y=\"158.484375\"/>\n",
       "  <use xlink:href=\"#glyph0-10\" x=\"585.842773\" y=\"158.484375\"/>\n",
       "  <use xlink:href=\"#glyph0-12\" x=\"593.628906\" y=\"158.484375\"/>\n",
       "</g>\n",
       "</g>\n",
       "</svg>\n"
      ],
      "text/plain": [
       "<igraph.drawing.cairo.plot.CairoPlot at 0x2b61c7460>"
      ]
     },
     "execution_count": 29,
     "metadata": {
      "image/svg+xml": {
       "isolated": true
      }
     },
     "output_type": "execute_result"
    }
   ],
   "source": [
    "g.vs[\"label\"] = g.vs[\"name\"]\n",
    "igraph.plot(g)"
   ]
  },
  {
   "cell_type": "markdown",
   "metadata": {},
   "source": [
    "* Try both langages. We observe that french works less well: this is due to the stemmer, it transformed \"aime\" into \"aim\", it's therefore not recognising it as a verb. This can be changed in the nltk language import at the beginning.\n",
    "* Playing with the windows size is fun ! The density of the graph changes totally while the number of nodes is constant !"
   ]
  },
  {
   "cell_type": "markdown",
   "metadata": {},
   "source": [
    "### Keyword Extraction by Graph degeneneracy"
   ]
  },
  {
   "cell_type": "markdown",
   "metadata": {},
   "source": [
    "* Now we are able to clean, process the text into a graph, we can finally start applying social network methods on words network.\n",
    "* Let's do the analogy. In social network, the nodes are representeds by people, and edges as their link. It's known during preious studies, that a person with less friends but in the core of a part of the network will help diffuse the informations. On the othe rhand, words are nodes and their co-occurence are the edges, meaning that some words would be able to influence on other. \n",
    "* So what should one think ? One has to find the core of sub networks. This is easy because  B.Seidman . in 1983, released a book, named Network structure and minimum degree where he explains the K-core algorithm."
   ]
  },
  {
   "cell_type": "markdown",
   "metadata": {},
   "source": [
    "Rather than explaining what is K-core decomposition, I will let you have a look at this short video:\n",
    "https://www.youtube.com/watch?v=rHVrgbc_3JA\n",
    "<br><br>\n",
    "Now, this is what we call unweighted k-core. In short, we remove the the lowest degree node at each step where degree is the number of immediate neighbors. If the graph is weighted, the degree should be assumed as the sum of the co-occurences, meaning that if we are trying to prune a node, we will be looking at this definition of the degreee : \"the wors that appears the least\".\n",
    "\n",
    "\n",
    "\n",
    "\n",
    "\n",
    "\n"
   ]
  },
  {
   "cell_type": "code",
   "execution_count": 30,
   "metadata": {},
   "outputs": [],
   "source": [
    "def core_dec(g,weighted):\n",
    "    '''(un)weighted k-core decomposition'''\n",
    "    # work on clone of g to preserve g \n",
    "    gg = copy.deepcopy(g)\n",
    "    if not weighted:\n",
    "        gg.vs['weight'] = gg.strength() # overwrite the 'weight' vertex attribute with the unweighted degrees\n",
    "    # initialize dictionary that will contain the core numbers\n",
    "    cores_g = dict(zip(gg.vs['name'],[0]*len(gg.vs)))\n",
    "    \n",
    "    while len(gg.vs) > 0:\n",
    "        # find index of lowest degree vertex\n",
    "        min_degree = min(gg.vs['weight'])\n",
    "        index_top = gg.vs['weight'].index(min_degree)\n",
    "        name_top = gg.vs[index_top]['name']\n",
    "        # get names of its neighbors\n",
    "        neighbors = gg.vs[gg.neighbors(index_top)]['name']\n",
    "        # exclude self-edges\n",
    "        neighbors = [elt for elt in neighbors if elt!=name_top]\n",
    "        # set core number of lowest degree vertex as its degree\n",
    "        cores_g[name_top] = min_degree\n",
    "        # delete top vertex and its incident edges\n",
    "        gg.delete_vertices(index_top)\n",
    "        \n",
    "        if neighbors:\n",
    "            if weighted: \n",
    "                new_degrees = gg.strength(weights=gg.es['weight'])\n",
    "            else:\n",
    "                new_degrees = gg.strength()\n",
    "            # iterate over neighbors of top element\n",
    "            for neigh in neighbors:\n",
    "                index_n = gg.vs['name'].index(neigh)\n",
    "                gg.vs[index_n]['weight'] = max(min_degree,new_degrees[index_n])  \n",
    "        \n",
    "    return(cores_g)"
   ]
  },
  {
   "cell_type": "code",
   "execution_count": 31,
   "metadata": {},
   "outputs": [
    {
     "name": "stdout",
     "output_type": "stream",
     "text": [
      "A comparison between our function and the built in function of igraph: \n",
      "{'boss': 1.0, 'googl': 1.0, 'man': 2.0, 'tenni': 1.0, 'toto': 2.0, 'trader': 2.0}\n",
      "{'boss': 1, 'googl': 1, 'man': 2, 'tenni': 1, 'toto': 2, 'trader': 2}\n"
     ]
    }
   ],
   "source": [
    "core_numbers = core_dec(g,False)\n",
    "print(\"A comparison between our function and the built in function of igraph: \")\n",
    "print(core_numbers)\n",
    "print(dict(zip(g.vs['name'],g.coreness())))"
   ]
  },
  {
   "cell_type": "markdown",
   "metadata": {},
   "source": [
    "* Those values, represents the biggest core of our texts. \n",
    "* Those words are the most influential in our model.\n",
    "* In other words, those are the keywords of the previous text."
   ]
  },
  {
   "cell_type": "markdown",
   "metadata": {},
   "source": [
    "SO here you are :D. You got a keyword extractor using a simple graph model.<br>\n",
    "There is so many ways to use it: finding music tonality, detecting event that are happening thanks to tweets and so on.<br>\n",
    "If you have any other ideas, please feel free to comment, add changes and contact me ! I'm still learning. I hope that you enjoyed this brief work."
   ]
  },
  {
   "cell_type": "markdown",
   "metadata": {},
   "source": [
    "The edges fails to explain the nature of relation ships within words. Intuitively, I would say that word are connected through verbs. Could it be interesting to modelise those verbs by embeddings ? Then, by minimizing the error we would be able to get a lexical range of word that explains the nature of the relationship between the words. "
   ]
  },
  {
   "cell_type": "code",
   "execution_count": null,
   "metadata": {},
   "outputs": [],
   "source": []
  }
 ],
 "metadata": {
  "kernelspec": {
   "display_name": "Python 3",
   "language": "python",
   "name": "python3"
  },
  "language_info": {
   "codemirror_mode": {
    "name": "ipython",
    "version": 3
   },
   "file_extension": ".py",
   "mimetype": "text/x-python",
   "name": "python",
   "nbconvert_exporter": "python",
   "pygments_lexer": "ipython3",
   "version": "3.9.18"
  }
 },
 "nbformat": 4,
 "nbformat_minor": 2
}
