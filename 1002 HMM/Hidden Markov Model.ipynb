{
 "cells": [
  {
   "cell_type": "markdown",
   "metadata": {},
   "source": [
    "# Hidden Markov Model\n",
    "\n",
    "This notebook contains the code displaying the results for a Hidden Markov Model (HMM) built using the NumPy library. \n",
    "\n",
    "The code in `hmm.py` aims to address the three fundamental problems of HMMs: \n",
    "\n",
    "1. **Likelihood:** Compute the likelihood of a given observation sequence.\n",
    "2. **Decoding:** Determine the most likely hidden state sequence for a given observation sequence.\n",
    "3. **Learning:** Learn the HMM parameters given an observation sequence."
   ]
  },
  {
   "cell_type": "code",
   "execution_count": 1,
   "metadata": {},
   "outputs": [],
   "source": [
    "# imports\n",
    "import numpy as np\n",
    "from hmm import HiddenMarkovModel"
   ]
  },
  {
   "cell_type": "markdown",
   "metadata": {},
   "source": [
    "### Build the model"
   ]
  },
  {
   "cell_type": "code",
   "execution_count": 2,
   "metadata": {},
   "outputs": [],
   "source": [
    "# initialize model parameters\n",
    "state_space = [\"hot\", \"cold\"]\n",
    "observation_space = [1, 2, 3]  ### Q\n",
    "initial_probabilities = [0.8, 0.2] ### pi\n",
    "transition_probabilities = [[0.6, 0.4], [0.5, 0.5]]  ### A\n",
    "emission_probabilities = [[0.2, 0.4, 0.4], [0.5, 0.4, 0.1]]    ##b"
   ]
  },
  {
   "cell_type": "code",
   "execution_count": 3,
   "metadata": {},
   "outputs": [],
   "source": [
    "# build model\n",
    "hmm = HiddenMarkovModel(state_space, observation_space, transition_probabilities, \n",
    "                        emission_probabilities, initial_probabilities)"
   ]
  },
  {
   "cell_type": "markdown",
   "metadata": {},
   "source": [
    "### Problem 1: Likelihood\n",
    "\n",
    "Given an HMM $\\lambda = (A, B, \\pi)$ and an observation sequence $O$, determine the likelihood $P(O|\\lambda)$."
   ]
  },
  {
   "cell_type": "code",
   "execution_count": 28,
   "metadata": {},
   "outputs": [
    {
     "name": "stdout",
     "output_type": "stream",
     "text": [
      "* Observation sequence: [1, 2, 3, 2, 2, 1, 2]\n",
      "* Likelihood: 5.92e-04\n"
     ]
    }
   ],
   "source": [
    "# calculate likelihood\n",
    "observation_sequence = [1, 2, 3, 2, 2, 1, 2]\n",
    "likelihood = hmm.likelihood(observation_sequence)\n",
    "print(\"* Observation sequence: {}\".format(observation_sequence))\n",
    "print(\"* Likelihood: {:.2e}\".format(likelihood))"
   ]
  },
  {
   "cell_type": "markdown",
   "metadata": {},
   "source": [
    "### Problem 2: Decoding\n",
    "\n",
    "Given an observation sequence $O$ and an HMM $\\lambda = (A, B, \\pi)$, discover the best hidden state sequence $Q$."
   ]
  },
  {
   "cell_type": "code",
   "execution_count": 42,
   "metadata": {},
   "outputs": [
    {
     "name": "stdout",
     "output_type": "stream",
     "text": [
      "* Observation sequence: [1, 2, 3, 2, 2, 1, 2]\n",
      "* Most likely hidden state path: ['cold' 'hot' 'hot' 'hot' 'hot' 'cold' 'hot']\n",
      "* Likelihood for observation sequence along path: 4.77e-04\n"
     ]
    }
   ],
   "source": [
    "# determine most likely state sequence\n",
    "path, prob = hmm.decode(observation_sequence)\n",
    "print(\"* Observation sequence: {}\".format(observation_sequence))\n",
    "print(\"* Most likely hidden state path: {}\".format(path))\n",
    "print(\"* Likelihood for observation sequence along path: {:.2e}\".format(prob))"
   ]
  },
  {
   "cell_type": "markdown",
   "metadata": {},
   "source": [
    "### Problem 3: Learning\n",
    "\n",
    "Given an observation sequence $O$ and the set of states in the HMM, learn the HMM parameters $A$, $B$, and $\\pi$."
   ]
  },
  {
   "cell_type": "code",
   "execution_count": 31,
   "metadata": {},
   "outputs": [
    {
     "name": "stdout",
     "output_type": "stream",
     "text": [
      "PROBABILITIES BEFORE LEARNING\n",
      "-----------------------------\n",
      "* Initial:\n",
      "[0.8 0.2]\n",
      "\n",
      "* Transition:\n",
      "[[0.6 0.4]\n",
      " [0.5 0.5]]\n",
      "\n",
      "* Emission:\n",
      "[[0.2 0.4 0.4]\n",
      " [0.5 0.4 0.1]]\n"
     ]
    }
   ],
   "source": [
    "# print original parameters\n",
    "print(\"PROBABILITIES BEFORE LEARNING\")\n",
    "print(\"-----------------------------\")\n",
    "print(\"* Initial:\")\n",
    "print(hmm.pi)\n",
    "print(\"\\n* Transition:\")\n",
    "print(hmm.tp)\n",
    "print(\"\\n* Emission:\")\n",
    "print(hmm.ep)"
   ]
  },
  {
   "cell_type": "code",
   "execution_count": 40,
   "metadata": {},
   "outputs": [],
   "source": [
    "# learn from observation sequence\n",
    "hmm.learn(observation_sequence, iterations=1)"
   ]
  },
  {
   "cell_type": "code",
   "execution_count": 41,
   "metadata": {},
   "outputs": [
    {
     "name": "stdout",
     "output_type": "stream",
     "text": [
      "PROBABILITIES AFTER LEARNING\n",
      "----------------------------\n",
      "* Initial:\n",
      "[0.0865826 0.9134174]\n",
      "\n",
      "* Transition:\n",
      "[[0.69703429 0.30296571]\n",
      " [0.65405325 0.34594675]]\n",
      "\n",
      "* Emission:\n",
      "[[0.11874366 0.6656835  0.21557284]\n",
      " [0.53033539 0.43333995 0.03632467]]\n"
     ]
    }
   ],
   "source": [
    "# print parameters after learning\n",
    "print(\"PROBABILITIES AFTER LEARNING\")\n",
    "print(\"----------------------------\")\n",
    "print(\"* Initial:\")\n",
    "print(hmm.pi)\n",
    "print(\"\\n* Transition:\")\n",
    "print(hmm.tp)\n",
    "print(\"\\n* Emission:\")\n",
    "print(hmm.ep)"
   ]
  }
 ],
 "metadata": {
  "kernelspec": {
   "display_name": "Python 3",
   "language": "python",
   "name": "python3"
  },
  "language_info": {
   "codemirror_mode": {
    "name": "ipython",
    "version": 3
   },
   "file_extension": ".py",
   "mimetype": "text/x-python",
   "name": "python",
   "nbconvert_exporter": "python",
   "pygments_lexer": "ipython3",
   "version": "3.9.18"
  }
 },
 "nbformat": 4,
 "nbformat_minor": 4
}
