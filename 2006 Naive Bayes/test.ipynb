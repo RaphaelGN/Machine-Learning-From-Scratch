{
 "cells": [
  {
   "cell_type": "code",
   "execution_count": 3,
   "metadata": {},
   "outputs": [],
   "source": [
    "from sklearn.feature_extraction.text import CountVectorizer\n",
    "corpus = [\n",
    "    'This is the first document.',\n",
    "    'This document is the second document.',\n",
    "    'And this is the third one.',\n",
    "    'Is this the first document?',\n",
    "]"
   ]
  },
  {
   "cell_type": "code",
   "execution_count": 6,
   "metadata": {},
   "outputs": [
    {
     "data": {
      "text/plain": [
       "<4x9 sparse matrix of type '<class 'numpy.int64'>'\n",
       "\twith 21 stored elements in Compressed Sparse Row format>"
      ]
     },
     "execution_count": 6,
     "metadata": {},
     "output_type": "execute_result"
    }
   ],
   "source": [
    "vectorizer = CountVectorizer()\n",
    "X = vectorizer.fit_transform(corpus)"
   ]
  },
  {
   "cell_type": "code",
   "execution_count": 20,
   "metadata": {},
   "outputs": [
    {
     "name": "stdout",
     "output_type": "stream",
     "text": [
      "[[0 1 1 1 0 0 1 0 1]\n",
      " [0 2 0 1 0 1 1 0 1]\n",
      " [1 0 0 1 1 0 1 1 1]\n",
      " [0 1 1 1 0 0 1 0 1]]\n"
     ]
    },
    {
     "data": {
      "text/plain": [
       "array(['and this', 'document is', 'first document', 'is the', 'is this',\n",
       "       'second document', 'the first', 'the second', 'the third',\n",
       "       'third one', 'this document', 'this is', 'this the'], dtype=object)"
      ]
     },
     "execution_count": 20,
     "metadata": {},
     "output_type": "execute_result"
    }
   ],
   "source": [
    "vectorizer.get_feature_names_out()\n",
    "print(X.toarray())\n",
    "vectorizer2 = CountVectorizer(analyzer='word', ngram_range=(2, 2))\n",
    "X2 = vectorizer2.fit_transform(corpus)\n",
    "vectorizer2.get_feature_names_out()"
   ]
  },
  {
   "cell_type": "code",
   "execution_count": 18,
   "metadata": {},
   "outputs": [
    {
     "name": "stdout",
     "output_type": "stream",
     "text": [
      "[[0 0 0 0 1 0 0 0 1 1 1 1 1 1 0 0 0 0 0 0 0 0 0 0 1 1 1 0 0 0 0 0 0 1 0 0\n",
      "  0 1 1 1 0 0 0 0]\n",
      " [0 0 0 0 2 1 1 1 0 0 1 1 0 0 1 1 0 0 0 0 0 0 1 1 1 0 0 1 1 0 0 0 0 1 1 1\n",
      "  1 0 0 0 0 0 0 0]\n",
      " [1 1 1 1 0 0 0 0 0 0 1 1 0 0 0 0 1 1 0 0 0 1 0 0 1 0 0 0 0 1 1 1 1 1 0 0\n",
      "  0 1 1 0 1 0 0 0]\n",
      " [0 0 0 0 1 0 0 0 1 1 1 0 0 0 0 0 0 0 1 1 1 0 0 0 1 1 1 0 0 0 0 0 0 1 0 0\n",
      "  0 0 0 0 0 1 1 1]]\n"
     ]
    }
   ],
   "source": [
    "print(X2.toarray())"
   ]
  },
  {
   "cell_type": "code",
   "execution_count": 3,
   "metadata": {},
   "outputs": [
    {
     "name": "stdout",
     "output_type": "stream",
     "text": [
      "iio\n",
      "uia\n",
      "iiu\n",
      "oio\n",
      "iie\n",
      "eia\n",
      "yio\n",
      "aie\n",
      "iiu\n",
      "oiy\n",
      "yio\n",
      "eia\n",
      "eiu\n",
      "yiy\n",
      "iie\n",
      "oiu\n",
      "aia\n",
      "uie\n",
      "iie\n",
      "eiy\n"
     ]
    }
   ],
   "source": [
    "# Random-text-generator\n",
    "#Python Script for text generation\n",
    "import random\n",
    "import string\n",
    "\n",
    "vowels='aeiouy'\n",
    "consonants='bcdfghjklmnpqrstvwxz'\n",
    "letters=vowels+consonants\n",
    "\n",
    "letter_input = []\n",
    "length_input = int(input(\"Enter the length of inputs you want: \"))\n",
    "\n",
    "for i in range(length_input):\n",
    "    letter_input.append(input(\"What letter do you want? Enter 'v' for vowels, 'c' for consonants, 'l' for any letter:\"))\n",
    "\n",
    "def generate():\n",
    "    name = \"\"\n",
    "    for i in range(length_input):\n",
    "        letter_input_1 = letter_input[i]\n",
    "        l1 = letter_input_1\n",
    "        if letter_input_1 == 'v':\n",
    "            l1=random.choice(vowels)\n",
    "        elif letter_input_1 == 'c':\n",
    "            l1=random.choice(consonants)\n",
    "        elif letter_input_1 == 'l':\n",
    "            l1=random.choice(letters)\n",
    "        name=name + l1\n",
    "    return name\n",
    "\n",
    "for i in range(20):\n",
    "    n=generate()\n",
    "    print(n)"
   ]
  }
 ],
 "metadata": {
  "kernelspec": {
   "display_name": "cnn_raphael",
   "language": "python",
   "name": "python3"
  },
  "language_info": {
   "codemirror_mode": {
    "name": "ipython",
    "version": 3
   },
   "file_extension": ".py",
   "mimetype": "text/x-python",
   "name": "python",
   "nbconvert_exporter": "python",
   "pygments_lexer": "ipython3",
   "version": "3.9.18"
  }
 },
 "nbformat": 4,
 "nbformat_minor": 2
}
